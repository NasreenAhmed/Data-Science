{
 "cells": [
  {
   "cell_type": "code",
   "execution_count": null,
   "metadata": {},
   "outputs": [],
   "source": [
    "\"\"\"Source : Gilber Strang\"\"\"\n",
    "\"\"\"Modified Gram-Schmidt Algorithm\"\"\"\n",
    "\n",
    "for j = 1:n                     %#modified Gram-Schmidt\n",
    "    \n",
    "    v = A[:,j]                  %#v begins as column j of the original A\n",
    "    \n",
    "    for i = 1:j-1               %#columns q1 and q(j-1) are already settled in Q\n",
    "        \n",
    "        R[i,j] = Q[:,i]`*v      %#compute R(ij)=transpose(q[i])*a[j] which is q[i].T*v\n",
    "        \n",
    "        v = v - R[i,j]*Q[:,i]   %#subtract the projection (q[i].T*v)q[i]\n",
    "        \n",
    "    end                         %#v is now perpendicular to all of q[i],...,q[j-1]\n",
    "    \n",
    "    R[j,j] = norm(v)            %# the diagonal entries R[jj] are length\n",
    "    \n",
    "    Q[:,j] = v/R[j,j]           %#divide v  by its length to get the next q[j]\n",
    "    \n",
    "end                             %#the 'for j = 1:n loop' produces all of q[j]"
   ]
  },
  {
   "cell_type": "code",
   "execution_count": 7,
   "metadata": {},
   "outputs": [
    {
     "name": "stdout",
     "output_type": "stream",
     "text": [
      "3\n",
      "[ 1 -1  0]\n",
      "1.4142135623730951\n"
     ]
    }
   ],
   "source": [
    "#Implementation with an example \n",
    "import numpy as np\n",
    "\n",
    "A = np.array([[1,2,3],[-1,0,-3],[0,-2,3]])\n",
    "\n",
    "\n"
   ]
  },
  {
   "cell_type": "code",
   "execution_count": 23,
   "metadata": {},
   "outputs": [
    {
     "name": "stdout",
     "output_type": "stream",
     "text": [
      "R [[ 1.41421356  1.41421356  4.24264069]\n",
      " [ 0.          2.44948974 -2.44948974]\n",
      " [ 0.          0.          1.73205081]]\n",
      "Q [[ 0.70710678  0.40824829  0.57735027]\n",
      " [-0.70710678  0.40824829  0.57735027]\n",
      " [ 0.         -0.81649658  0.57735027]]\n"
     ]
    }
   ],
   "source": [
    "#Implementation with an example \n",
    "\n",
    "import numpy as np\n",
    "\n",
    "A = np.array([[1,2,3],[-1,0,-3],[0,-2,3]])\n",
    "\n",
    "#Initializing matrix R and Q with zeros\n",
    "R = np.zeros(shape=(3,3))\n",
    "\n",
    "Q = np.zeros(shape=(3,3))\n",
    "\n",
    "# The start of the algorithm\n",
    "\n",
    "for j in range(0,len(A)):\n",
    "    \n",
    "    v = A[:,j]\n",
    "    \n",
    "    for i in range(0,j):\n",
    "        \n",
    "        R[i,j] = np.dot(Q[:,i].T,v)\n",
    "        \n",
    "        v = v - (R[i,j]*Q[:,i])\n",
    "        \n",
    "    R[j,j] = np.linalg.norm(v)\n",
    "    \n",
    "    Q[:,j] = v/R[j,j]\n",
    "\n",
    "print(\"R\",R)\n",
    "\n",
    "print(\"Q\",Q)"
   ]
  }
 ],
 "metadata": {
  "kernelspec": {
   "display_name": "Python 3",
   "language": "python",
   "name": "python3"
  },
  "language_info": {
   "codemirror_mode": {
    "name": "ipython",
    "version": 3
   },
   "file_extension": ".py",
   "mimetype": "text/x-python",
   "name": "python",
   "nbconvert_exporter": "python",
   "pygments_lexer": "ipython3",
   "version": "3.7.4"
  }
 },
 "nbformat": 4,
 "nbformat_minor": 2
}
