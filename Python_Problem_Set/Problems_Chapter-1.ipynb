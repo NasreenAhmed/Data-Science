{
 "cells": [
  {
   "cell_type": "markdown",
   "metadata": {},
   "source": [
    "# Chapter-1 Exercises "
   ]
  },
  {
   "cell_type": "markdown",
   "metadata": {},
   "source": [
    "   R-1.1 Write a short Python Function, is_multiple(n,m)  that takes $2$ interger values and returns True if $n$ is a multiple of $m$, that is $n = im$ for some integer $i$, and False otherwise"
   ]
  },
  {
   "cell_type": "code",
   "execution_count": 9,
   "metadata": {},
   "outputs": [
    {
     "name": "stdout",
     "output_type": "stream",
     "text": [
      "Is n a mulitple of m: True\n"
     ]
    }
   ],
   "source": [
    "def is_multiple(n,m):\n",
    "    \n",
    "    if n%m == 0:\n",
    "        return True\n",
    "    else: \n",
    "        return False\n",
    "    \n",
    "if __name__ == '__main__':\n",
    "    \n",
    "    n = 10\n",
    "    m = 5\n",
    "    \n",
    "    print(\"Is n a mulitple of m:\",is_multiple(n,m))"
   ]
  },
  {
   "cell_type": "markdown",
   "metadata": {},
   "source": [
    "   R-1.2 Write a short Python Function, is_even(k) that takes the interger value and returns True if k even, and False otherwise. However, your function cannot use the multiplication,modulo or division operators."
   ]
  },
  {
   "cell_type": "code",
   "execution_count": 135,
   "metadata": {},
   "outputs": [
    {
     "name": "stdout",
     "output_type": "stream",
     "text": [
      "k is a: Odd\n"
     ]
    }
   ],
   "source": [
    "def is_even(k):\n",
    "\n",
    "    k = str(k)\n",
    "    arr = (['0','2','4','6','8'])\n",
    "    if k[-1] in arr:\n",
    "    \n",
    "        return (\"Even\")\n",
    "    else:\n",
    "        return (\"Odd\")\n",
    "\n",
    "if __name__ == '__main__':\n",
    "    \n",
    "    k = 123\n",
    "    \n",
    "    print(\"k is a:\",is_even(k))\n",
    "    "
   ]
  },
  {
   "cell_type": "markdown",
   "metadata": {},
   "source": [
    "   R-1.3 Write a short Python Function, minmax(data) that takes a sequence of one or more numbers,  and returns the smallest and the largest numbers, in the form of a tuple pf length two. Do not use the built-in functions min or max  in implementing your solution."
   ]
  },
  {
   "cell_type": "code",
   "execution_count": 43,
   "metadata": {},
   "outputs": [
    {
     "name": "stdout",
     "output_type": "stream",
     "text": [
      "The min and max: (-5, 100) respectively\n"
     ]
    }
   ],
   "source": [
    "def minmax(data):\n",
    "\n",
    "    '''We have initialized both the variables min and max to the first value in the set''' \n",
    "    \n",
    "    min_d = data[0]\n",
    "    max_d = data[0]\n",
    "    \n",
    "    for i in range(1,len(data)):\n",
    "        if min_d > data[i]:\n",
    "            min_d = data[i]\n",
    "            \n",
    "        if max_d < data[i]:\n",
    "            max_d = data[i]\n",
    "    return (min_d,max_d)\n",
    "        \n",
    "\n",
    "if __name__ == '__main__':\n",
    "    \n",
    "    arr = ([4,5,2,56,3,100,-5])\n",
    "    \n",
    "    print(\"The min and max:\",minmax(arr),\"respectively\")"
   ]
  },
  {
   "cell_type": "markdown",
   "metadata": {},
   "source": [
    "   R-1.4 Write a short Python Function,that takes a positive interger n and returns the sum of the squares of all the positive intergers smaller than $n$."
   ]
  },
  {
   "cell_type": "code",
   "execution_count": 53,
   "metadata": {},
   "outputs": [
    {
     "name": "stdout",
     "output_type": "stream",
     "text": [
      "The sum of squares of integers < k : 14\n"
     ]
    }
   ],
   "source": [
    "def square_sum(k):\n",
    "    \n",
    "    sum_n = 0\n",
    "    n = k-1\n",
    "    \n",
    "    while n >= 0: \n",
    "        square = n**2\n",
    "        sum_n += square\n",
    "        n = n-1  \n",
    "    return sum_n\n",
    "\n",
    "if __name__ == '__main__':\n",
    "    \n",
    "    k = 4\n",
    "    \n",
    "    print(\"The sum of squares of integers < k :\",square_sum(k))"
   ]
  },
  {
   "cell_type": "markdown",
   "metadata": {},
   "source": [
    "   R-1.5 Give a single command that computes the sum from R-1.4, relying on Python's comprehension syntax and the built-in sum funtion"
   ]
  },
  {
   "cell_type": "code",
   "execution_count": 81,
   "metadata": {},
   "outputs": [
    {
     "data": {
      "text/plain": [
       "30"
      ]
     },
     "execution_count": 81,
     "metadata": {},
     "output_type": "execute_result"
    }
   ],
   "source": [
    "k = 5\n",
    "sum([i**2 for i in range(k)])"
   ]
  },
  {
   "cell_type": "markdown",
   "metadata": {},
   "source": [
    "   R-1.6 Write a short Python function that take a positive integer n and returns the sum of squares of all the odd positive numbers smaller than $n$"
   ]
  },
  {
   "cell_type": "code",
   "execution_count": 85,
   "metadata": {},
   "outputs": [
    {
     "name": "stdout",
     "output_type": "stream",
     "text": [
      "The sum of squares of integers < k : 10\n"
     ]
    }
   ],
   "source": [
    "def square_odd_sum(k):\n",
    "    sum_n = 0\n",
    "    n = k-1\n",
    "    \n",
    "    while n >= 0: \n",
    "        \n",
    "        if n%2 != 0:\n",
    "            square = n**2\n",
    "            sum_n += square\n",
    "            n = n-1  \n",
    "        else:\n",
    "            n = n-1\n",
    "    return sum_n\n",
    "\n",
    "if __name__ == '__main__':\n",
    "    \n",
    "    k = 4\n",
    "    \n",
    "    print(\"The sum of squares of integers < k :\",square_odd_sum(k))\n",
    "    \n",
    "    "
   ]
  },
  {
   "cell_type": "markdown",
   "metadata": {},
   "source": [
    "   R-1.7 Give a single command that computes the sum from R-1.6, relying on Python's comprehension syntax and the built-in sum funtion"
   ]
  },
  {
   "cell_type": "code",
   "execution_count": 90,
   "metadata": {},
   "outputs": [
    {
     "data": {
      "text/plain": [
       "10"
      ]
     },
     "execution_count": 90,
     "metadata": {},
     "output_type": "execute_result"
    }
   ],
   "source": [
    "k = 4\n",
    "sum([x**2 for x in range(k) if x%2 !=0])"
   ]
  },
  {
   "cell_type": "markdown",
   "metadata": {},
   "source": [
    "   R-1.8 Python allows negative integers to be used as indices into a sequence, such as a string. If string s has length n, and expression $s[k]$ is used for index $-n < k < 0$, what is the equivalent index  $j \\geq 0$ such that $s[j]$ references the same element."
   ]
  },
  {
   "cell_type": "markdown",
   "metadata": {},
   "source": [
    "   R-1.9 What parameters should be sent to the range constructor, to produce a range with values $50,60,70,80$"
   ]
  },
  {
   "cell_type": "code",
   "execution_count": 92,
   "metadata": {},
   "outputs": [
    {
     "data": {
      "text/plain": [
       "[50, 60, 70, 80]"
      ]
     },
     "execution_count": 92,
     "metadata": {},
     "output_type": "execute_result"
    }
   ],
   "source": [
    "list(range(50,90,10))"
   ]
  },
  {
   "cell_type": "markdown",
   "metadata": {},
   "source": [
    "   R-1.10 What parameters should be sent to the range constructor, to produce a range with values $8,6,4,2,0,-2,-4,-6,-8$"
   ]
  },
  {
   "cell_type": "code",
   "execution_count": 94,
   "metadata": {},
   "outputs": [
    {
     "data": {
      "text/plain": [
       "[8, 6, 4, 2, 0, -2, -4, -6, -8]"
      ]
     },
     "execution_count": 94,
     "metadata": {},
     "output_type": "execute_result"
    }
   ],
   "source": [
    "list(range(8,-10,-2))"
   ]
  },
  {
   "cell_type": "markdown",
   "metadata": {},
   "source": [
    "   R-1.11 Demonstrate how to use Python's list comprehension syntax to produce the list $[1,2,4,8,16,32,64,128,256]$"
   ]
  },
  {
   "cell_type": "code",
   "execution_count": 99,
   "metadata": {},
   "outputs": [
    {
     "data": {
      "text/plain": [
       "[1, 2, 4, 8, 16, 32, 64, 128, 256]"
      ]
     },
     "execution_count": 99,
     "metadata": {},
     "output_type": "execute_result"
    }
   ],
   "source": [
    "[2**i for i in range(9)]"
   ]
  },
  {
   "cell_type": "markdown",
   "metadata": {},
   "source": [
    "       R-1.12 Python's random module includes a function choice(data) that returns a random number from a non-empty sequence. The random module includes a more basic function randrange, with parameterized similar to the built-in range function, that return a random choice from the given range. Using only the randrange function, implement your own version of the choice funtion. \n",
    "    \n",
    "    Syntax : \n",
    "    random.randrange(start(opt),stop,step(opt))\n",
    "    Parameters :\n",
    "    start(opt) :  Number consideration for generation starts from this,\n",
    "    default value is 0. This parameter is optional.\n",
    "    stop : Numbers less than this are generated. This parameter is mandatory.\n",
    "    step(opt) : Step point of range, this won't be included. This is optional.\n",
    "    Default value is 1.\n",
    "    Return Value : \n",
    "    This function generated the numbers in the sequence start-stop skipping step.\n",
    "    Exceptions :\n",
    "    Raises ValueError if stop <= start and number is non- integral.\n",
    "Source : https://www.geeksforgeeks.org/randrange-in-python/"
   ]
  },
  {
   "cell_type": "code",
   "execution_count": 106,
   "metadata": {},
   "outputs": [
    {
     "data": {
      "text/plain": [
       "84"
      ]
     },
     "execution_count": 106,
     "metadata": {},
     "output_type": "execute_result"
    }
   ],
   "source": [
    "import random\n",
    "random.randrange(0,100,2)"
   ]
  },
  {
   "cell_type": "markdown",
   "metadata": {},
   "source": [
    "#  Section-2 Creativity "
   ]
  },
  {
   "cell_type": "markdown",
   "metadata": {},
   "source": [
    "   C-1.13 Write a pseudo code description of a function that reverses a list of n integers , so that the numbers are listed in the opposite order than they were before,and compare this method to an quivalent Python function for doing the same thing."
   ]
  },
  {
   "cell_type": "code",
   "execution_count": 119,
   "metadata": {},
   "outputs": [
    {
     "name": "stdout",
     "output_type": "stream",
     "text": [
      "The original array : [4, 5, 1, 2, 0] \n",
      "\n",
      "The reversed array: [0, 2, 1, 5, 4]\n"
     ]
    }
   ],
   "source": [
    "import math\n",
    "def reverse(arr):\n",
    "    n = len(arr)\n",
    "    int_len = math.floor(len(arr)/2)\n",
    "    for i in range(0,int_len):\n",
    "        j = i+1\n",
    "        temp = arr[i]\n",
    "        arr[i] = arr[n-j]\n",
    "        arr[n-j] = temp\n",
    "    return arr\n",
    "        \n",
    "if __name__ == '__main__':\n",
    "    \n",
    "    arr = ([4,5,1,2,0])\n",
    "    \n",
    "    print(\"The original array :\",arr,\"\\n\")\n",
    "    print(\"The reversed array:\",reverse(arr))\n",
    "    \n",
    "    lst = [4,5,1,2,0]\n",
    "    lst.reverse()\n"
   ]
  },
  {
   "cell_type": "markdown",
   "metadata": {},
   "source": [
    "A little note about Enumerate()\n",
    "1. Python Enumerate() method adds counter to an iterable * returns it (the enurate object)\n",
    "2. Syntax : enumerate(iterable,start(optional))\n",
    "3. Enumerate takes two parameters.: \n",
    "    a) Iterable : A sequence, an iterator, or object that supports iterator.\n",
    "    b) Start(Optinonal): enumerate() starts counting from this number.If start is omitted, 0 is taken as start. \n",
    "4. Return value from enumerate() : Enumerate method adds counter to an iterable & returns it. The returned object is a enumerate object. \n",
    "link :https://www.programiz.com/python-programming/methods/built-in/enumerate"
   ]
  },
  {
   "cell_type": "code",
   "execution_count": 155,
   "metadata": {},
   "outputs": [
    {
     "data": {
      "text/plain": [
       "[5, 1]"
      ]
     },
     "execution_count": 155,
     "metadata": {},
     "output_type": "execute_result"
    }
   ],
   "source": [
    "# Example : \n",
    "# initializing list  \n",
    "#test_list = [True, False, True, False, True, True, False] \n",
    "#a = list(enumerate(test_list))\n",
    "\n",
    "main_list = [12, 10, 30, 10, 11,10, 31]\n",
    "get_indices = [1, 0, 1, 1, 0, 0, 0]\n",
    "result = [x for i, x in enumerate(main_list) if get_indices[i]]\n",
    "#print(result)\n",
    "\n",
    "# \n",
    "arr = ([4,5,1,2,0])\n",
    "\n",
    "t =[arr[i]%2 !=0 for i in range(0,len(arr))]\n",
    "[x for i,x in enumerate(arr) if t[i]] "
   ]
  },
  {
   "cell_type": "markdown",
   "metadata": {},
   "source": [
    "   C-1.14 Write a short Python function that takes a sequence of integer values and determines if there is a distinct pair of numbers in the sequence whose product is odd."
   ]
  },
  {
   "cell_type": "code",
   "execution_count": 158,
   "metadata": {},
   "outputs": [
    {
     "name": "stdout",
     "output_type": "stream",
     "text": [
      "The sub array consisting of odd integers (if any): [3, 5, 53, 1, 1, 7]\n"
     ]
    }
   ],
   "source": [
    "def product(arr):\n",
    "    \n",
    "    # The logic used : multiple of odd integers is odd, so collating \n",
    "    #the odd numbers in the list\n",
    "    t =[arr[i]%2 !=0 for i in range(0,len(arr))] \n",
    "    c = [x for i,x in enumerate(arr) if t[i]] \n",
    "    return(c)\n",
    "    \n",
    "if __name__ == '__main__':\n",
    "    \n",
    "    arr = ([3,5,53,1,4,6,1,10,7,44])\n",
    "    \n",
    "    \n",
    "    print(\"The sub array consisting of odd integers (if any):\",product(arr))\n",
    "          "
   ]
  },
  {
   "cell_type": "markdown",
   "metadata": {},
   "source": [
    "   C-1.15 Write a python function that takes a sequence of numbers and determines if all the numbers are different from each other( that is, they are distinct)"
   ]
  },
  {
   "cell_type": "code",
   "execution_count": 166,
   "metadata": {},
   "outputs": [
    {
     "name": "stdout",
     "output_type": "stream",
     "text": [
      "Is the array unique  True\n"
     ]
    }
   ],
   "source": [
    "def unique(arr):\n",
    "    \n",
    "    # We will write a simple 2 for loop program, but the nature of the program is \n",
    "    # such that we canuse recursive logic, but we will not do for now\n",
    "    n = len(arr)\n",
    "    for i in range(0,n):\n",
    "            if arr[i] in arr[i+1:n]:\n",
    "                return False\n",
    "            else:\n",
    "                i+=1\n",
    "    return True\n",
    "                \n",
    "if __name__ == '__main__':\n",
    "    \n",
    "    arr = ([4,5,3,6,2,1])\n",
    "    \n",
    "    \n",
    "    print(\"Is the array unique \",unique(arr))"
   ]
  },
  {
   "cell_type": "markdown",
   "metadata": {},
   "source": [
    "   C-1.18  Demonstrate how to use Python's list comprehension syntax to produce the list $[0,2,6,12,20,30,42,56,72,90]$"
   ]
  },
  {
   "cell_type": "code",
   "execution_count": 171,
   "metadata": {},
   "outputs": [
    {
     "data": {
      "text/plain": [
       "[0, 2, 6, 12, 20, 30, 42, 56, 72, 90]"
      ]
     },
     "execution_count": 171,
     "metadata": {},
     "output_type": "execute_result"
    }
   ],
   "source": [
    "d = list(range(1,11))\n",
    "# Basically I have to multiple d with its index.\n",
    "[d[i]*i for i in range(0,len(d)) ]"
   ]
  },
  {
   "cell_type": "markdown",
   "metadata": {},
   "source": [
    "   C-1.19  Demonstrate how to use Python's list comprehension syntax to produce the list [$'a','b','c',...,'z'$] but without having to type 26 such characters literally."
   ]
  },
  {
   "cell_type": "code",
   "execution_count": 188,
   "metadata": {},
   "outputs": [
    {
     "name": "stdout",
     "output_type": "stream",
     "text": [
      "['a', 'b', 'c', 'd', 'e', 'f', 'g', 'h', 'i', 'j', 'k', 'l', 'm', 'n', 'o', 'p', 'q', 'r', 's', 't', 'u', 'v', 'w', 'x', 'y', 'z']\n"
     ]
    }
   ],
   "source": [
    "#ord('a') # got the numerical value of 'a' \n",
    "#chr(97)\n",
    "d = (list(range(97,123)))\n",
    "e =[chr(d[i]) for i in range(0,len(d))]\n",
    "print(e)"
   ]
  },
  {
   "cell_type": "markdown",
   "metadata": {},
   "source": [
    "   C-1.20 Python's random module includes a function shuffle(data) that accpets a list of elements and randomly reorders the elements so that each possible order occurs with equal probability. The random module includes a more basic function randint(a,b) that returns a uniformly random integer from a to b (including both end-points). Using only the randint function, implement your own version of the shuffle function."
   ]
  },
  {
   "cell_type": "code",
   "execution_count": 215,
   "metadata": {},
   "outputs": [
    {
     "name": "stdout",
     "output_type": "stream",
     "text": [
      "The shuffled array: [ 5  2  3  6  1 10  0]\n"
     ]
    }
   ],
   "source": [
    "import numpy as np\n",
    "def shuffle(arr):\n",
    "    # Logic: We will use the randint s.t a=0 and b = length of the array being passed\n",
    "    # whatever the return value of the randint function, the arr will shift to the right\n",
    "    # by that many positions and the last elements will appear in the start of the array\n",
    "    \n",
    "    b = len(arr)\n",
    "    a = 0\n",
    "    shuffle_val = random.randint(a,b)\n",
    "    s_arr = np.copy(arr)\n",
    "    for i in range(0,len(arr)):\n",
    "        t = i+shuffle_val\n",
    "        if i+shuffle_val < b :\n",
    "            s_arr[t] = arr[i]\n",
    "        else:\n",
    "            s_arr[t-b] = arr[i] # here is the main logic to take care of t+i >len(arr)\n",
    "    return s_arr\n",
    "    \n",
    "if __name__ == '__main__':\n",
    "    \n",
    "    arr = ([1,10,0,5,2,3,6])\n",
    "    \n",
    "    \n",
    "    print(\"The shuffled array:\",shuffle(arr))  "
   ]
  },
  {
   "cell_type": "markdown",
   "metadata": {},
   "source": [
    "   C-1.21 Write a python program that repeatedly reads lines from standard input until an EOFError is raised, and then output those lines in reverse order (a user can indicate end of input by typing ctrl-D)"
   ]
  },
  {
   "cell_type": "code",
   "execution_count": 221,
   "metadata": {},
   "outputs": [
    {
     "ename": "TypeError",
     "evalue": "'str' object cannot be interpreted as an integer",
     "output_type": "error",
     "traceback": [
      "\u001b[0;31m---------------------------------------------------------------------------\u001b[0m",
      "\u001b[0;31mTypeError\u001b[0m                                 Traceback (most recent call last)",
      "\u001b[0;32m<ipython-input-221-139d0a123626>\u001b[0m in \u001b[0;36m<module>\u001b[0;34m\u001b[0m\n\u001b[1;32m      1\u001b[0m \u001b[0;32mfrom\u001b[0m \u001b[0msys\u001b[0m \u001b[0;32mimport\u001b[0m \u001b[0mstdin\u001b[0m\u001b[0;34m\u001b[0m\u001b[0;34m\u001b[0m\u001b[0m\n\u001b[0;32m----> 2\u001b[0;31m \u001b[0mtext\u001b[0m \u001b[0;34m=\u001b[0m\u001b[0mstdin\u001b[0m\u001b[0;34m.\u001b[0m\u001b[0mreadline\u001b[0m\u001b[0;34m(\u001b[0m\u001b[0;34m\"Howare u\"\u001b[0m\u001b[0;34m)\u001b[0m\u001b[0;34m\u001b[0m\u001b[0;34m\u001b[0m\u001b[0m\n\u001b[0m\u001b[1;32m      3\u001b[0m \u001b[0mprint\u001b[0m\u001b[0;34m(\u001b[0m\u001b[0mtext\u001b[0m\u001b[0;34m)\u001b[0m\u001b[0;34m\u001b[0m\u001b[0;34m\u001b[0m\u001b[0m\n",
      "\u001b[0;31mTypeError\u001b[0m: 'str' object cannot be interpreted as an integer"
     ]
    }
   ],
   "source": [
    "'''To do'''\n",
    "from sys import stdin\n",
    "text =stdin.readline()\n",
    "print(text)"
   ]
  },
  {
   "cell_type": "markdown",
   "metadata": {},
   "source": [
    "   C-1.22 Write a short Python program that takes two arrays a and b of length n storing int values , and returns the dot products of a and b.That is, it returns an array c of length n such that $c[i] = a[i].b[i],$ for $i = 0,...n-1$"
   ]
  },
  {
   "cell_type": "code",
   "execution_count": 228,
   "metadata": {},
   "outputs": [
    {
     "name": "stdout",
     "output_type": "stream",
     "text": [
      "The dot product of a.b: [3, 0, 0, 3, 6, 6]\n"
     ]
    }
   ],
   "source": [
    "def dot_product(a,b):\n",
    "    \n",
    "    # stores n values, means a and b should be of the same length for the operation \n",
    "    # on the 2 arrays to be successful \n",
    "    \n",
    "    c = [0]*len(a)\n",
    "    for i in range(0,len(a)):\n",
    "        c[i] = a[i]*b[i]\n",
    "    return c\n",
    "\n",
    "if __name__ == '__main__':\n",
    "    \n",
    "    a = ([1,0,0,1,2,2])\n",
    "    b = ([3,3,3,3,3,3])\n",
    "    \n",
    "    \n",
    "    print(\"The dot product of a.b:\",dot_product(a,b))  \n",
    "\n",
    "# it can also be done using shape and np.dot ..but we are using the simplest and naive\n",
    "# approach there"
   ]
  },
  {
   "cell_type": "markdown",
   "metadata": {},
   "source": [
    "C-1.23 Give an example of a python code fragment that attempts to write an element to a list based on an index that may be out of bounds. If that index is out of bounds, the program should catch the exception that results, and print the following error message\n",
    "\"Don't try buffer overflow attacks in Python!\""
   ]
  },
  {
   "cell_type": "code",
   "execution_count": 231,
   "metadata": {},
   "outputs": [
    {
     "name": "stdout",
     "output_type": "stream",
     "text": [
      "1\n",
      "0\n",
      "0\n",
      "Don't try buffer overflow attacks in Python!\n"
     ]
    }
   ],
   "source": [
    "def overflow(arr):\n",
    "    \n",
    "    for i in range(0,len(arr)+1):\n",
    "        try:\n",
    "            print(arr[i])\n",
    "        except IndexError:\n",
    "            print(\"Don't try buffer overflow attacks in Python!\")\n",
    "\n",
    "if __name__ == '__main__':\n",
    "    \n",
    "    a = ([1,0,0]) \n",
    "    overflow(a)  "
   ]
  },
  {
   "cell_type": "markdown",
   "metadata": {},
   "source": [
    "C-1.24 Write a short Python function that counts the number of vowels in a given character string."
   ]
  },
  {
   "cell_type": "code",
   "execution_count": 239,
   "metadata": {},
   "outputs": [
    {
     "name": "stdout",
     "output_type": "stream",
     "text": [
      "Total number of vowels in the given string: 3\n"
     ]
    }
   ],
   "source": [
    "def count_vowels(s,vowels):\n",
    "    \n",
    "    add = 0\n",
    "    for i in range(0,len(s)):\n",
    "        if s[i] in vowels:\n",
    "            add  +=1\n",
    "    return add\n",
    "            \n",
    "if __name__ == '__main__':\n",
    "    \n",
    "    s = 'reyiagq'\n",
    "    vowels = ['a','e','i','o','u']\n",
    "    print(\"Total number of vowels in the given string:\",count_vowels(s,vowels))      "
   ]
  },
  {
   "cell_type": "markdown",
   "metadata": {},
   "source": [
    "C-1.26 Write a short program that takes as input three integers a,b and c, from the console and determines if they can be in a correct arithmetic formula :\n",
    "example : $\"a+b = c\", \"a = b-c\"  or \"a*b = c\"$"
   ]
  },
  {
   "cell_type": "code",
   "execution_count": null,
   "metadata": {},
   "outputs": [],
   "source": []
  },
  {
   "cell_type": "markdown",
   "metadata": {},
   "source": [
    "C-1.27 In section 1.8,we provided three different implementations of a generator that computes factors of a given integer. The third of those implementations, from page- $41$ ,was not the most effecient, but we noted that , it did not yield factors in increasing order. Modify the generator so that it reports factors in increasing order, while maintaining its general performance advantages. "
   ]
  },
  {
   "cell_type": "code",
   "execution_count": null,
   "metadata": {},
   "outputs": [],
   "source": []
  },
  {
   "cell_type": "markdown",
   "metadata": {},
   "source": [
    "C-1.28 The $p-norm$ of a vector $v = (v_1,v_2,v_3,...,v_n)$ in $n-$dimensional space is defined as :\n",
    "$\\begin{align}\n",
    "        \\vert\\vert v\\vert\\vert = \\sqrt[p]{v_1^p + v_2^p + ... + v_n^p}\n",
    "\\end{align}$\\\n",
    "For the special case of p = 2, this results in traditional Euclidean norm, which represents the length of the vector. Given an implementation of a function named $Norm$ such  that norm (v,p) returns the $p-$norm value of $v$ and norm($v$) returns the Euclidean norm of $v$. You may assume the $v$ is a list of numbers"
   ]
  },
  {
   "cell_type": "code",
   "execution_count": null,
   "metadata": {},
   "outputs": [],
   "source": []
  }
 ],
 "metadata": {
  "kernelspec": {
   "display_name": "Python 3",
   "language": "python",
   "name": "python3"
  },
  "language_info": {
   "codemirror_mode": {
    "name": "ipython",
    "version": 3
   },
   "file_extension": ".py",
   "mimetype": "text/x-python",
   "name": "python",
   "nbconvert_exporter": "python",
   "pygments_lexer": "ipython3",
   "version": "3.7.4"
  }
 },
 "nbformat": 4,
 "nbformat_minor": 2
}
