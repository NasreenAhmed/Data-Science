{
 "cells": [
  {
   "cell_type": "markdown",
   "metadata": {},
   "source": [
    "Memorized version of fibonacci"
   ]
  },
  {
   "cell_type": "code",
   "execution_count": 8,
   "metadata": {},
   "outputs": [
    {
     "name": "stdout",
     "output_type": "stream",
     "text": [
      "5\n"
     ]
    }
   ],
   "source": [
    "import numpy as np\n",
    "\n",
    "# First writing a simple recursion \n",
    "\n",
    "def fibonacci(n):\n",
    "    if n <= 1:\n",
    "        return n\n",
    "    else:\n",
    "        d = fibonacci(n-1) + fibonacci(n-2)\n",
    "        return d\n",
    "\n",
    "print(fibonacci(5))\n"
   ]
  },
  {
   "cell_type": "code",
   "execution_count": 59,
   "metadata": {},
   "outputs": [],
   "source": [
    "# Attempt to write the Fibonacci with Memorization\n",
    "\n",
    "def fibonacci_mem(n,dict_val):\n",
    "    \n",
    "    if n <= 1:\n",
    "        return n\n",
    "    else:\n",
    "        #print(\" Value at dict_val[n-1] when entering the else\",n-1, dict_val[n-1])\n",
    "        if dict_val[n-1] != None:\n",
    "         #   print(\"dic_val-1\",n-1,dict_val[n-1])\n",
    "            term_n_1 = dict_val[n-1]\n",
    "        else:\n",
    "            dict_val[n-1] = fibonacci_mem(n-1,dict_val)\n",
    "          #  print(\"dic_val-2\",n-1,dict_val[n-1])\n",
    "           \n",
    "        #print(\"Value at dict_val[n-2] when entering the else\",n-2, dict_val[n-2])\n",
    "        if dict_val[n-2] != None:\n",
    "         #   print(\"dic_val-3\",n-2,dict_val[n-2])\n",
    "            term_n_2 = dict_val[n-2]\n",
    "            \n",
    "        else:\n",
    "            dict_val[n-2] = fibonacci_mem(n-2,dict_val)\n",
    "          #  print(\"dic_val-4\",n-2,dict_val[n-2])\n",
    "        \n",
    "        d = dict_val[n-1] + dict_val[n-2]\n",
    "        \n",
    "        return d"
   ]
  },
  {
   "cell_type": "code",
   "execution_count": 67,
   "metadata": {},
   "outputs": [
    {
     "name": "stdout",
     "output_type": "stream",
     "text": [
      "5\n"
     ]
    }
   ],
   "source": [
    "a = list(range(20))\n",
    "dict_val = dict([(x,None) for x in a])\n",
    "print(fibonacci_mem(5,dict_val))\n",
    "\n"
   ]
  },
  {
   "cell_type": "code",
   "execution_count": 63,
   "metadata": {},
   "outputs": [],
   "source": [
    "# Attempt to write the Fibonacci with Memorization\n",
    "\n",
    "def fibonacci_mem(n,dict_val):\n",
    "    \n",
    "    if n <= 1:\n",
    "        return n\n",
    "    else:\n",
    "        \n",
    "        if dict_val[n-1] != None:\n",
    "            term_n_1 = dict_val[n-1]\n",
    "        else:\n",
    "            dict_val[n-1] = fibonacci_mem(n-1,dict_val)\n",
    "\n",
    "        if dict_val[n-2] != None:\n",
    "            term_n_2 = dict_val[n-2]\n",
    "            \n",
    "        else:\n",
    "            dict_val[n-2] = fibonacci_mem(n-2,dict_val)  \n",
    "        d = dict_val[n-1] + dict_val[n-2]\n",
    "        \n",
    "        return d"
   ]
  },
  {
   "cell_type": "code",
   "execution_count": 66,
   "metadata": {},
   "outputs": [
    {
     "name": "stdout",
     "output_type": "stream",
     "text": [
      "The fibonacci number is: 5\n"
     ]
    }
   ],
   "source": [
    "a = list(range(20))\n",
    "dict_val = dict([(x,None) for x in a])\n",
    "print(\"The fibonacci number is:\",fibonacci_mem(5,dict_val))"
   ]
  },
  {
   "cell_type": "code",
   "execution_count": 29,
   "metadata": {},
   "outputs": [
    {
     "name": "stdout",
     "output_type": "stream",
     "text": [
      "{0: 0, 1: 0, 2: 0, 3: 0, 4: 0, 5: 0, 6: 0, 7: 0, 8: 0, 9: 0}\n"
     ]
    }
   ],
   "source": [
    "# Understand Dictionary \n",
    "\n",
    "dict_prac = {\"a\":\"alpha\",\"o\":\"omega\",\"g\":\"gamma\",\"b\":\"beta\"}\n",
    "\n",
    "#print(dict_prac)\n",
    "\n",
    "#print(dict_prac.items())\n",
    "\n",
    "#for key, value in dict_prac.items():\n",
    " #   print(value)\n",
    "\n",
    "#print(dict_prac.keys())\n",
    "#print(dict_prac.values())\n",
    "#print(dict_prac['b'])\n",
    "\n",
    "\n",
    "\n",
    "a = list(range(10))\n",
    "\n",
    "dict_prac = dict([(x,0) for x in a])\n",
    "\n",
    "print(dict_prac)"
   ]
  },
  {
   "cell_type": "markdown",
   "metadata": {},
   "source": [
    "Optimal Strategy for a Game: \n",
    "\n",
    "Consider a row of n coins of values v1 . . . vn, where n is even. We play a game against an opponent by alternating turns. In each turn, a player selects either the first or last coin from the row, removes it from the row permanently, and receives the value of the coin. Determine the maximum possible amount of money we can definitely win if we move first.\n",
    "\n",
    "Note: The opponent is as clever as the user.\n",
    "\n",
    "Let us understand the problem with few examples:\n",
    "\n",
    "5, 3, 7, 10 : The user collects maximum value as 15(10 + 5)\n",
    "8, 15, 3, 7 : The user collects maximum value as 22(7 + 15)\n",
    "Does choosing the best at each move gives an optimal solution? No.\n",
    "In the second example, this is how the game can be finished:\n",
    "\n",
    "…….User chooses 8.\n",
    "…….Opponent chooses 15.\n",
    "…….User chooses 7.\n",
    "…….Opponent chooses 3.\n",
    "Total value collected by user is 15(8 + 7)\n",
    "…….User chooses 7.\n",
    "…….Opponent chooses 8.\n",
    "…….User chooses 15.\n",
    "…….Opponent chooses 3.\n",
    "Total value collected by user is 22(7 + 15)\n",
    "So if the user follows the second game state, the maximum value can be collected although the first move is not the best."
   ]
  },
  {
   "cell_type": "code",
   "execution_count": null,
   "metadata": {},
   "outputs": [],
   "source": [
    "# Think of a Strategy \n",
    "\n"
   ]
  }
 ],
 "metadata": {
  "kernelspec": {
   "display_name": "Python 3",
   "language": "python",
   "name": "python3"
  },
  "language_info": {
   "codemirror_mode": {
    "name": "ipython",
    "version": 3
   },
   "file_extension": ".py",
   "mimetype": "text/x-python",
   "name": "python",
   "nbconvert_exporter": "python",
   "pygments_lexer": "ipython3",
   "version": "3.7.4"
  }
 },
 "nbformat": 4,
 "nbformat_minor": 2
}
